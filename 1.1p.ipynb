{
 "cells": [
  {
   "cell_type": "markdown",
   "metadata": {},
   "source": [
    "# SIT731 - Task 1P \n",
    "## Monique Senjaya, S224780456, [s224780456@deakin.edu.au](mailto:s224780456@deakin.edu.au), Postgraduate Student \n",
    "\n",
    "In this first task, we are required to showcase our ability to code in **Python** in a **Jupyter Notebook** environment. This exercise consists of simple python tasks like:\n",
    "- Making lists\n",
    "- Using for loop to execute functions on a set of data in a list\n",
    "- Using for loop to print a series of strings (based on the results)\n",
    "- Draw a bar plot using data from a given list\n",
    "- Make use of extra parameters to change bar colours depending on its categories.\n",
    "\n",
    "Other than showcasing technical coding skills, this task also covers our ability to analyze and discuss benefits and limitations of BMI calculations. This also includes comparing the two different ways of calculation and how it differs."
   ]
  },
  {
   "cell_type": "markdown",
   "metadata": {},
   "source": [
    "### Making lists\n",
    "---\n",
    "First, let's make a few lists consisting of basic data to be used in this task. We need to make sure that all the list has identical lengths. "
   ]
  },
  {
   "cell_type": "code",
   "execution_count": 15,
   "metadata": {},
   "outputs": [],
   "source": [
    "names = [\"Abby\", \"Barry\", \"Carston\", \"Dennis\", \"Ella\", \"Felicia\", \"Garret\"]\n",
    "heights = [162, 183, 190, 175, 170, 159, 161] # in cenitimetres\n",
    "weights = [41, 85, 70, 97, 60, 68, 69] # in kilograms"
   ]
  },
  {
   "cell_type": "markdown",
   "metadata": {},
   "source": [
    "### Making a function to calculate BMI and New BMI\n",
    "---\n",
    "\n",
    "After initializing the lists, we can use it to calculate each person's BMI using a formula. To make it neater, let's make a function `calculate_BMI` that takes in two parameters `weight` and `height` and returns the BMI using the formula `weight (in kg) / (height (in m))**2`. We will also make a third optional parameter called `new` that is a boolean. This is used to differentiate which formula we will be using. If the `new` is true, we will be using a new bmi formula (exponent of 2.5) `1.3 * weight (in kg) / (height (in m))**2.5`.\n"
   ]
  },
  {
   "cell_type": "code",
   "execution_count": 26,
   "metadata": {},
   "outputs": [],
   "source": [
    "def calculate_BMI(weight, height, new = False):\n",
    "    \"\"\"\n",
    "    A function to calculate the BMI based \n",
    "    on the given inputs of weight in Kg and \n",
    "    height in cms.\n",
    "    \"\"\"\n",
    "    if new == False:\n",
    "        return weight / (height/100)**2\n",
    "    elif new == True:\n",
    "        return 1.3 * (weight / (height/100)**2.5)\n",
    "\n"
   ]
  },
  {
   "cell_type": "markdown",
   "metadata": {},
   "source": [
    "### Using the function to calculate BMI\n",
    "---\n",
    "Once the function is made, let's construct a for loop that loops through the list and calculate the respective BMIs for each person. We will be making use of **indexes** to make sure that the data corresponds to the right person. When the BMI is calculated, we will store the result in a new list called `bmi`. Make sure that we use the `round` function to make the result into 2 sf. "
   ]
  },
  {
   "cell_type": "code",
   "execution_count": 29,
   "metadata": {},
   "outputs": [
    {
     "data": {
      "text/plain": [
       "[15.96, 24.39, 18.29, 31.13, 20.7, 27.73, 27.27]"
      ]
     },
     "execution_count": 29,
     "metadata": {},
     "output_type": "execute_result"
    }
   ],
   "source": [
    "bmi = [] # Initialize the list for storing the results\n",
    "new_bmi = []\n",
    "\n",
    "for i in range(len(names)): # Loop through the range of the length of the list names\n",
    "    bmi.append(round(calculate_BMI(weights[i], heights[i], new = False),2)) # use the current index value to extract corresponding values\n",
    "    new_bmi.append(round(calculate_BMI(weights[i], heights[i], new = True),2)) # new formula\n",
    "\n",
    "bmi\n",
    "new_bmi"
   ]
  },
  {
   "cell_type": "markdown",
   "metadata": {},
   "source": [
    "### Using print formatting to display data\n",
    "---\n",
    "\n",
    "As we can see, the BMI is stored accordingly in the `bmi` list. This, however, is not user friendly. It's just numbers that doesn't mean much on its own. The next step we'll do is printing a series of strings so that the numbers can actually be understood correctly. We will also put the numbers into categories to further enhance the description of data. We will be doing this using another for loop and if-else statements."
   ]
  },
  {
   "cell_type": "markdown",
   "metadata": {},
   "source": [
    "To make the code more efficient, we will include another list of colors based on their categories. This will be very useful for the next task of plotting a bar graph."
   ]
  },
  {
   "cell_type": "code",
   "execution_count": null,
   "metadata": {},
   "outputs": [
    {
     "name": "stdout",
     "output_type": "stream",
     "text": [
      "Abby has BMI of 15.62 which is underweight. The new BMI index is 15.96\n",
      "Barry has BMI of 25.38 which is overweight. The new BMI index is 24.39\n",
      "Carston has BMI of 19.39 which is normal. The new BMI index is 18.29\n",
      "Dennis has BMI of 31.67 which is obese. The new BMI index is 31.13\n",
      "Ella has BMI of 20.76 which is normal. The new BMI index is 20.7\n",
      "Felicia has BMI of 26.9 which is overweight. The new BMI index is 27.73\n",
      "Garret has BMI of 26.62 which is overweight. The new BMI index is 27.27\n"
     ]
    }
   ],
   "source": [
    "bmi_categories = []\n",
    "colors = []\n",
    "\n",
    "for i in range(len(names)):\n",
    "    if bmi[i] < 18.5: # use if to filter and categorize the data\n",
    "        bmi_category = \"underweight\"\n",
    "        colors.append(\"paleturquoise\")\n",
    "    elif bmi[i] < 25.0:\n",
    "        bmi_category = \"normal\"\n",
    "        colors.append(\"limegreen\")\n",
    "    elif bmi[i] < 30.0:\n",
    "        bmi_category = \"overweight\"\n",
    "        colors.append(\"darkorange\")\n",
    "    else: # use else when dealing with \"any other options\"\n",
    "        bmi_category = \"obese\"\n",
    "        colors.append(\"tomato\")\n",
    "\n",
    "    bmi_categories.append(bmi_category)\n",
    "    \n",
    "    print (f\"{names[i]} has BMI of {bmi[i]} which is {bmi_category}. The new BMI index is {new_bmi[i]}.\") # make use of format printing"
   ]
  },
  {
   "cell_type": "markdown",
   "metadata": {},
   "source": [
    "### Plotting a bar graph\n",
    "---\n",
    "After using the formating print, users will be able to understand the data better. We can still improve this, though, by plotting a bar graph to show the BMI of each person. This can also be further enhanced by making different colors for different BMI categories. Let's do that with matplotlib."
   ]
  },
  {
   "cell_type": "code",
   "execution_count": 14,
   "metadata": {},
   "outputs": [
    {
     "data": {
      "image/png": "[encoded data removed]",
      "text/plain": [
       "<Figure size 432x288 with 1 Axes>"
      ]
     },
     "metadata": {
      "needs_background": "light"
     },
     "output_type": "display_data"
    }
   ],
   "source": [
    "import matplotlib.pyplot as plt # importing basic plotting library\n",
    "import matplotlib.patches as mpatches \n",
    "\n",
    "plt.bar(names, bmi, color = colors)\n",
    "plt.title(\"My friend's BMI\")\n",
    "\n",
    "under = mpatches.Patch(color='paleturquoise', label='Underweight') \n",
    "norm = mpatches.Patch(color='limegreen', label='Normal') \n",
    "over = mpatches.Patch(color='darkorange', label='Overweight') \n",
    "obese = mpatches.Patch(color='tomato', label='Obese') \n",
    "\n",
    "plt.legend(handles=[under, norm, over, obese])\n",
    "plt.show()"
   ]
  },
  {
   "cell_type": "markdown",
   "metadata": {},
   "source": [
    "The bar graph above clearly shows everyone's BMIs and their categories, complete with the color legends. Plotting this graph really brings out the full potential of the given data. "
   ]
  },
  {
   "cell_type": "markdown",
   "metadata": {},
   "source": [
    "### Benefits and limitations of BMI\n",
    "---\n",
    "\n",
    "BMI is often used because it's a quick and consistent way to estimate an individual's weight category. From a medical perspective, it helps classify people as underweight, normal weight, overweight, or obese, which can be useful in identifying potential health risks such as heart disease, diabetes, and high blood pressure. Since it only requires height and weight, it is a convenient tool for doctors and researchers to assess large groups of people without expnsive tests. It provides a rough estimate of health trends, making it an efficient screening tool, though not a perfect one.\n",
    "\n",
    "However, BMI has several limitations because it does not take body composition into account. Muscle is denser than fat, meaning that athletes and individuals with high muscle mass may have a BMI that classifies them as overweight or even obese, despite being physically fit. On the other hand, someone with little muscle and a high percentage of body fat might fall within the \"normal weight\" range but still be at risk for serious health conditions. BMI also does not consider factors like bone density, fat distribution, or body shape, all of which play a significant role in overall health. Because of these flaws, relying solely on BMI for medical diagnoses or health assessments can be misleading.\n",
    "\n",
    "After evaluating the limitations of BMI calculations, researchers have now propose an improved BMI formula that raises weight to an exponent of 2.5 instead of the traditional 2. This adjustment helps account for the fact that weight does not always scale proportionally to height squared, particularly for taller individuals who may be unfairly categorized as overweight under the original formula. This formula is a little more accurate when used to reflect various body composition.\n",
    "\n",
    "Beyond medicine, BMI is frequently used in workplaces, insurance policies, and schools to assess health, sometimes leading to discrimination and stigma. People labeled as \"overweight\" or \"obese\" may face unfair bias, even if they are healthy, while those with a \"normal\" BMI might mistakenly believe they are in good health despite potential health issues. Moreover, BMI has been misused to promote unrealistic beauty standards, pressuring individuals into unhealthy dieting, eating disorders, and body image struggles.\n",
    "\n",
    "While BMI can be a helpful tool when used correctly in the right context, it should never be used to judge someone's health solely by their BMI numbers. Newer calculations, like the exponent 2.5 formula, have improved in accuracy, but no single number can fully categorize a person’s well-being."
   ]
  },
  {
   "cell_type": "markdown",
   "metadata": {},
   "source": [
    "### Conclusion\n",
    "---\n",
    "\n",
    "In conclusion, BMI is a useful tool because it is quick and easy to use. But, it has many flaws. It doesn't consider muscle, fat distribution, or body shape. This can lead to misleading results. The new formula using an exponent of 2.5 attempts to improve accurace, but it still shouldn't be the only way to measure health. A person's well-being depends on a lot of factors like fitness level, diet, and overall lifestyles.\n",
    "\n",
    "The code also categorizes BMI values into underweight, normal, overweight, and obese, assigning different colors to each group for a visual representation. This highlights one of BMI’s biggest issues. People with high muscle mass may still fall into the overweight or obese category even if they are healthy. The visualization makes it clear that BMI alone is not always a fair measure. In the future, similar programs could incorporate more health factors, such as body fat percentage or waist-to-height ratio, to provide a better picture of overall health. While BMI can still be useful, we should always look at the bigger picture and avoid using it as the only way to judge health."
   ]
  }
 ],
 "metadata": {
  "kernelspec": {
   "display_name": "Python 3",
   "language": "python",
   "name": "python3"
  },
  "language_info": {
   "codemirror_mode": {
    "name": "ipython",
    "version": 3
   },
   "file_extension": ".py",
   "mimetype": "text/x-python",
   "name": "python",
   "nbconvert_exporter": "python",
   "pygments_lexer": "ipython3",
   "version": "3.9.13"
  }
 },
 "nbformat": 4,
 "nbformat_minor": 2
}
